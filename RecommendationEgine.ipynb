{
 "cells": [
  {
   "cell_type": "markdown",
   "id": "901c9c12-3986-449f-8ad3-fe0805161932",
   "metadata": {},
   "source": [
    "<h1> Recommendation Engine</h1>\n",
    "\n",
    "A plan for a company to increase its market share globally, with a Recommendation engine that recommends products to customers based on their past purchase habits, can be vital to achieving its objective.\n",
    "\n",
    "The recommender will focus on increasing each customer's market basket value by suggesting products based on their past purchase behaviour."
   ]
  },
  {
   "cell_type": "code",
   "execution_count": 241,
   "id": "d4e983b9-f3f5-412b-85d8-c79136395f8f",
   "metadata": {},
   "outputs": [],
   "source": [
    "# import libraries\n",
    "import pandas as pd\n",
    "import numpy as np\n",
    "import matplotlib.pyplot as plt; plt.rcdefaults()\n",
    "import matplotlib.pyplot as plt\n",
    "import scipy.sparse as sparse\n",
    "from scipy.sparse.linalg import spsolve\n",
    "import warnings\n",
    "warnings.filterwarnings('ignore')"
   ]
  },
  {
   "cell_type": "code",
   "execution_count": 243,
   "id": "d53ce609-6522-4e15-9f1c-28ac215286ef",
   "metadata": {},
   "outputs": [],
   "source": [
    "#load the dataset using pandas package\n",
    "df = pd.read_csv('Online_retail.zip')"
   ]
  },
  {
   "cell_type": "code",
   "execution_count": 245,
   "id": "d44df42e-0400-4407-a01a-be14c7fe075a",
   "metadata": {},
   "outputs": [
    {
     "data": {
      "text/html": [
       "<div>\n",
       "<style scoped>\n",
       "    .dataframe tbody tr th:only-of-type {\n",
       "        vertical-align: middle;\n",
       "    }\n",
       "\n",
       "    .dataframe tbody tr th {\n",
       "        vertical-align: top;\n",
       "    }\n",
       "\n",
       "    .dataframe thead th {\n",
       "        text-align: right;\n",
       "    }\n",
       "</style>\n",
       "<table border=\"1\" class=\"dataframe\">\n",
       "  <thead>\n",
       "    <tr style=\"text-align: right;\">\n",
       "      <th></th>\n",
       "      <th>ProductKey</th>\n",
       "      <th>CustomerKey</th>\n",
       "      <th>SalesOrderNumber</th>\n",
       "      <th>ProductName</th>\n",
       "      <th>OrderQuantity</th>\n",
       "      <th>Price</th>\n",
       "      <th>OrderDate</th>\n",
       "      <th>Unnamed: 7</th>\n",
       "    </tr>\n",
       "  </thead>\n",
       "  <tbody>\n",
       "    <tr>\n",
       "      <th>0</th>\n",
       "      <td>310</td>\n",
       "      <td>21768</td>\n",
       "      <td>SO43697</td>\n",
       "      <td>Road-150 Red, 62</td>\n",
       "      <td>1</td>\n",
       "      <td>3578.2700</td>\n",
       "      <td>29/12/2010</td>\n",
       "      <td>NaN</td>\n",
       "    </tr>\n",
       "    <tr>\n",
       "      <th>1</th>\n",
       "      <td>346</td>\n",
       "      <td>28389</td>\n",
       "      <td>SO43698</td>\n",
       "      <td>Mountain-100 Silver, 44</td>\n",
       "      <td>1</td>\n",
       "      <td>3399.9900</td>\n",
       "      <td>29/12/2010</td>\n",
       "      <td>NaN</td>\n",
       "    </tr>\n",
       "    <tr>\n",
       "      <th>2</th>\n",
       "      <td>346</td>\n",
       "      <td>25863</td>\n",
       "      <td>SO43699</td>\n",
       "      <td>Mountain-100 Silver, 44</td>\n",
       "      <td>1</td>\n",
       "      <td>3399.9900</td>\n",
       "      <td>29/12/2010</td>\n",
       "      <td>NaN</td>\n",
       "    </tr>\n",
       "    <tr>\n",
       "      <th>3</th>\n",
       "      <td>336</td>\n",
       "      <td>14501</td>\n",
       "      <td>SO43700</td>\n",
       "      <td>Road-650 Black, 62</td>\n",
       "      <td>1</td>\n",
       "      <td>699.0982</td>\n",
       "      <td>29/12/2010</td>\n",
       "      <td>NaN</td>\n",
       "    </tr>\n",
       "    <tr>\n",
       "      <th>4</th>\n",
       "      <td>346</td>\n",
       "      <td>11003</td>\n",
       "      <td>SO43701</td>\n",
       "      <td>Mountain-100 Silver, 44</td>\n",
       "      <td>1</td>\n",
       "      <td>3399.9900</td>\n",
       "      <td>29/12/2010</td>\n",
       "      <td>NaN</td>\n",
       "    </tr>\n",
       "  </tbody>\n",
       "</table>\n",
       "</div>"
      ],
      "text/plain": [
       "   ProductKey  CustomerKey SalesOrderNumber              ProductName  \\\n",
       "0         310        21768          SO43697         Road-150 Red, 62   \n",
       "1         346        28389          SO43698  Mountain-100 Silver, 44   \n",
       "2         346        25863          SO43699  Mountain-100 Silver, 44   \n",
       "3         336        14501          SO43700       Road-650 Black, 62   \n",
       "4         346        11003          SO43701  Mountain-100 Silver, 44   \n",
       "\n",
       "   OrderQuantity      Price   OrderDate  Unnamed: 7  \n",
       "0              1  3578.2700  29/12/2010         NaN  \n",
       "1              1  3399.9900  29/12/2010         NaN  \n",
       "2              1  3399.9900  29/12/2010         NaN  \n",
       "3              1   699.0982  29/12/2010         NaN  \n",
       "4              1  3399.9900  29/12/2010         NaN  "
      ]
     },
     "execution_count": 245,
     "metadata": {},
     "output_type": "execute_result"
    }
   ],
   "source": [
    "# Prints the first five rows of the dataset\n",
    "df.head()"
   ]
  },
  {
   "cell_type": "code",
   "execution_count": 247,
   "id": "2b771497-66c1-4bcb-9434-6e7f7e837ab4",
   "metadata": {},
   "outputs": [
    {
     "data": {
      "text/html": [
       "<div>\n",
       "<style scoped>\n",
       "    .dataframe tbody tr th:only-of-type {\n",
       "        vertical-align: middle;\n",
       "    }\n",
       "\n",
       "    .dataframe tbody tr th {\n",
       "        vertical-align: top;\n",
       "    }\n",
       "\n",
       "    .dataframe thead th {\n",
       "        text-align: right;\n",
       "    }\n",
       "</style>\n",
       "<table border=\"1\" class=\"dataframe\">\n",
       "  <thead>\n",
       "    <tr style=\"text-align: right;\">\n",
       "      <th></th>\n",
       "      <th>ProductKey</th>\n",
       "      <th>CustomerKey</th>\n",
       "      <th>SalesOrderNumber</th>\n",
       "      <th>ProductName</th>\n",
       "      <th>OrderQuantity</th>\n",
       "      <th>Price</th>\n",
       "      <th>OrderDate</th>\n",
       "    </tr>\n",
       "  </thead>\n",
       "  <tbody>\n",
       "    <tr>\n",
       "      <th>0</th>\n",
       "      <td>310</td>\n",
       "      <td>21768</td>\n",
       "      <td>SO43697</td>\n",
       "      <td>Road-150 Red, 62</td>\n",
       "      <td>1</td>\n",
       "      <td>3578.2700</td>\n",
       "      <td>29/12/2010</td>\n",
       "    </tr>\n",
       "    <tr>\n",
       "      <th>1</th>\n",
       "      <td>346</td>\n",
       "      <td>28389</td>\n",
       "      <td>SO43698</td>\n",
       "      <td>Mountain-100 Silver, 44</td>\n",
       "      <td>1</td>\n",
       "      <td>3399.9900</td>\n",
       "      <td>29/12/2010</td>\n",
       "    </tr>\n",
       "    <tr>\n",
       "      <th>2</th>\n",
       "      <td>346</td>\n",
       "      <td>25863</td>\n",
       "      <td>SO43699</td>\n",
       "      <td>Mountain-100 Silver, 44</td>\n",
       "      <td>1</td>\n",
       "      <td>3399.9900</td>\n",
       "      <td>29/12/2010</td>\n",
       "    </tr>\n",
       "    <tr>\n",
       "      <th>3</th>\n",
       "      <td>336</td>\n",
       "      <td>14501</td>\n",
       "      <td>SO43700</td>\n",
       "      <td>Road-650 Black, 62</td>\n",
       "      <td>1</td>\n",
       "      <td>699.0982</td>\n",
       "      <td>29/12/2010</td>\n",
       "    </tr>\n",
       "    <tr>\n",
       "      <th>4</th>\n",
       "      <td>346</td>\n",
       "      <td>11003</td>\n",
       "      <td>SO43701</td>\n",
       "      <td>Mountain-100 Silver, 44</td>\n",
       "      <td>1</td>\n",
       "      <td>3399.9900</td>\n",
       "      <td>29/12/2010</td>\n",
       "    </tr>\n",
       "  </tbody>\n",
       "</table>\n",
       "</div>"
      ],
      "text/plain": [
       "   ProductKey  CustomerKey SalesOrderNumber              ProductName  \\\n",
       "0         310        21768          SO43697         Road-150 Red, 62   \n",
       "1         346        28389          SO43698  Mountain-100 Silver, 44   \n",
       "2         346        25863          SO43699  Mountain-100 Silver, 44   \n",
       "3         336        14501          SO43700       Road-650 Black, 62   \n",
       "4         346        11003          SO43701  Mountain-100 Silver, 44   \n",
       "\n",
       "   OrderQuantity      Price   OrderDate  \n",
       "0              1  3578.2700  29/12/2010  \n",
       "1              1  3399.9900  29/12/2010  \n",
       "2              1  3399.9900  29/12/2010  \n",
       "3              1   699.0982  29/12/2010  \n",
       "4              1  3399.9900  29/12/2010  "
      ]
     },
     "execution_count": 247,
     "metadata": {},
     "output_type": "execute_result"
    }
   ],
   "source": [
    "# Let's exclude the 'Unnamed:7' column from our dataframe\n",
    "df = df.loc[:, df.columns!='Unnamed: 7']\n",
    "df.head()"
   ]
  },
  {
   "cell_type": "code",
   "execution_count": 249,
   "id": "087ec3b5-cdb6-471d-a613-632ea5ff13ad",
   "metadata": {},
   "outputs": [
    {
     "data": {
      "text/plain": [
       "(60398, 7)"
      ]
     },
     "execution_count": 249,
     "metadata": {},
     "output_type": "execute_result"
    }
   ],
   "source": [
    "# Let's check the dimention of the dataset\n",
    "df.shape"
   ]
  },
  {
   "cell_type": "markdown",
   "id": "6d15698c-5a27-4cfc-b224-01cd1713f0bb",
   "metadata": {},
   "source": [
    "<h3>Basic Data Analysis</h3>\n",
    "\n",
    "Let's get familiar with the dataset. To gain some impressions, will try getting some counts for different columns."
   ]
  },
  {
   "cell_type": "code",
   "execution_count": 254,
   "id": "4089a305-36b3-49cc-9aeb-94038affe302",
   "metadata": {},
   "outputs": [
    {
     "name": "stdout",
     "output_type": "stream",
     "text": [
      "The number of unique dates is:  1124\n"
     ]
    }
   ],
   "source": [
    "num_uniq_dates =df['OrderDate'].nunique()\n",
    "print(\"The number of unique dates is: \", num_uniq_dates)"
   ]
  },
  {
   "cell_type": "code",
   "execution_count": 256,
   "id": "cbe55abc-142e-461f-ac60-30c68416450d",
   "metadata": {},
   "outputs": [
    {
     "data": {
      "text/html": [
       "<div>\n",
       "<style scoped>\n",
       "    .dataframe tbody tr th:only-of-type {\n",
       "        vertical-align: middle;\n",
       "    }\n",
       "\n",
       "    .dataframe tbody tr th {\n",
       "        vertical-align: top;\n",
       "    }\n",
       "\n",
       "    .dataframe thead th {\n",
       "        text-align: right;\n",
       "    }\n",
       "</style>\n",
       "<table border=\"1\" class=\"dataframe\">\n",
       "  <thead>\n",
       "    <tr style=\"text-align: right;\">\n",
       "      <th></th>\n",
       "      <th>ProductKey</th>\n",
       "      <th>CustomerKey</th>\n",
       "      <th>OrderQuantity</th>\n",
       "      <th>Price</th>\n",
       "    </tr>\n",
       "  </thead>\n",
       "  <tbody>\n",
       "    <tr>\n",
       "      <th>count</th>\n",
       "      <td>60398.000000</td>\n",
       "      <td>60398.000000</td>\n",
       "      <td>60398.0</td>\n",
       "      <td>60398.000000</td>\n",
       "    </tr>\n",
       "    <tr>\n",
       "      <th>mean</th>\n",
       "      <td>437.557932</td>\n",
       "      <td>18841.685420</td>\n",
       "      <td>1.0</td>\n",
       "      <td>486.086911</td>\n",
       "    </tr>\n",
       "    <tr>\n",
       "      <th>std</th>\n",
       "      <td>118.088390</td>\n",
       "      <td>5432.430404</td>\n",
       "      <td>0.0</td>\n",
       "      <td>928.489892</td>\n",
       "    </tr>\n",
       "    <tr>\n",
       "      <th>min</th>\n",
       "      <td>214.000000</td>\n",
       "      <td>11000.000000</td>\n",
       "      <td>1.0</td>\n",
       "      <td>2.290000</td>\n",
       "    </tr>\n",
       "    <tr>\n",
       "      <th>25%</th>\n",
       "      <td>359.000000</td>\n",
       "      <td>14003.000000</td>\n",
       "      <td>1.0</td>\n",
       "      <td>7.950000</td>\n",
       "    </tr>\n",
       "    <tr>\n",
       "      <th>50%</th>\n",
       "      <td>479.000000</td>\n",
       "      <td>18143.000000</td>\n",
       "      <td>1.0</td>\n",
       "      <td>29.990000</td>\n",
       "    </tr>\n",
       "    <tr>\n",
       "      <th>75%</th>\n",
       "      <td>529.000000</td>\n",
       "      <td>23429.750000</td>\n",
       "      <td>1.0</td>\n",
       "      <td>539.990000</td>\n",
       "    </tr>\n",
       "    <tr>\n",
       "      <th>max</th>\n",
       "      <td>606.000000</td>\n",
       "      <td>29483.000000</td>\n",
       "      <td>1.0</td>\n",
       "      <td>3578.270000</td>\n",
       "    </tr>\n",
       "  </tbody>\n",
       "</table>\n",
       "</div>"
      ],
      "text/plain": [
       "         ProductKey   CustomerKey  OrderQuantity         Price\n",
       "count  60398.000000  60398.000000        60398.0  60398.000000\n",
       "mean     437.557932  18841.685420            1.0    486.086911\n",
       "std      118.088390   5432.430404            0.0    928.489892\n",
       "min      214.000000  11000.000000            1.0      2.290000\n",
       "25%      359.000000  14003.000000            1.0      7.950000\n",
       "50%      479.000000  18143.000000            1.0     29.990000\n",
       "75%      529.000000  23429.750000            1.0    539.990000\n",
       "max      606.000000  29483.000000            1.0   3578.270000"
      ]
     },
     "execution_count": 256,
     "metadata": {},
     "output_type": "execute_result"
    }
   ],
   "source": [
    "df.describe()"
   ]
  },
  {
   "cell_type": "markdown",
   "id": "17b723bd-8de7-4d03-acb7-0f0423691bab",
   "metadata": {},
   "source": [
    "<h3>Lookup table</h3>\n",
    "Lookup table that keeps track of each items ID along with a desciption of that item."
   ]
  },
  {
   "cell_type": "code",
   "execution_count": 123,
   "id": "74b1a1d5-c5f8-4af9-b317-57cc4e57631e",
   "metadata": {},
   "outputs": [],
   "source": [
    "# Only get unique item/description pair\n",
    "lookUp = df[['ProductKey', 'ProductName']].drop_duplicates()"
   ]
  },
  {
   "cell_type": "code",
   "execution_count": 125,
   "id": "e44e4c1a-79a5-485b-9641-6001e0f0bde3",
   "metadata": {},
   "outputs": [
    {
     "data": {
      "text/html": [
       "<div>\n",
       "<style scoped>\n",
       "    .dataframe tbody tr th:only-of-type {\n",
       "        vertical-align: middle;\n",
       "    }\n",
       "\n",
       "    .dataframe tbody tr th {\n",
       "        vertical-align: top;\n",
       "    }\n",
       "\n",
       "    .dataframe thead th {\n",
       "        text-align: right;\n",
       "    }\n",
       "</style>\n",
       "<table border=\"1\" class=\"dataframe\">\n",
       "  <thead>\n",
       "    <tr style=\"text-align: right;\">\n",
       "      <th></th>\n",
       "      <th>ProductKey</th>\n",
       "      <th>ProductName</th>\n",
       "    </tr>\n",
       "  </thead>\n",
       "  <tbody>\n",
       "    <tr>\n",
       "      <th>0</th>\n",
       "      <td>310</td>\n",
       "      <td>Road-150 Red, 62</td>\n",
       "    </tr>\n",
       "    <tr>\n",
       "      <th>1</th>\n",
       "      <td>346</td>\n",
       "      <td>Mountain-100 Silver, 44</td>\n",
       "    </tr>\n",
       "    <tr>\n",
       "      <th>3</th>\n",
       "      <td>336</td>\n",
       "      <td>Road-650 Black, 62</td>\n",
       "    </tr>\n",
       "    <tr>\n",
       "      <th>5</th>\n",
       "      <td>311</td>\n",
       "      <td>Road-150 Red, 44</td>\n",
       "    </tr>\n",
       "    <tr>\n",
       "      <th>7</th>\n",
       "      <td>351</td>\n",
       "      <td>Mountain-100 Black, 48</td>\n",
       "    </tr>\n",
       "  </tbody>\n",
       "</table>\n",
       "</div>"
      ],
      "text/plain": [
       "   ProductKey              ProductName\n",
       "0         310         Road-150 Red, 62\n",
       "1         346  Mountain-100 Silver, 44\n",
       "3         336       Road-650 Black, 62\n",
       "5         311         Road-150 Red, 44\n",
       "7         351   Mountain-100 Black, 48"
      ]
     },
     "execution_count": 125,
     "metadata": {},
     "output_type": "execute_result"
    }
   ],
   "source": [
    "lookUp.head()"
   ]
  },
  {
   "cell_type": "code",
   "execution_count": 127,
   "id": "5aec940c-03eb-4397-ab83-1a2267dbebe2",
   "metadata": {},
   "outputs": [
    {
     "name": "stdout",
     "output_type": "stream",
     "text": [
      "<class 'pandas.core.frame.DataFrame'>\n",
      "Int64Index: 158 entries, 0 to 7276\n",
      "Data columns (total 2 columns):\n",
      " #   Column       Non-Null Count  Dtype \n",
      "---  ------       --------------  ----- \n",
      " 0   ProductKey   158 non-null    int64 \n",
      " 1   ProductName  158 non-null    object\n",
      "dtypes: int64(1), object(1)\n",
      "memory usage: 3.7+ KB\n"
     ]
    }
   ],
   "source": [
    "lookUp.info()"
   ]
  },
  {
   "cell_type": "code",
   "execution_count": 129,
   "id": "3f307b70-bf1f-490e-ae96-c7496b8d33a7",
   "metadata": {},
   "outputs": [
    {
     "name": "stdout",
     "output_type": "stream",
     "text": [
      "<class 'pandas.core.frame.DataFrame'>\n",
      "RangeIndex: 60398 entries, 0 to 60397\n",
      "Data columns (total 7 columns):\n",
      " #   Column            Non-Null Count  Dtype  \n",
      "---  ------            --------------  -----  \n",
      " 0   ProductKey        60398 non-null  int64  \n",
      " 1   CustomerKey       60398 non-null  int64  \n",
      " 2   SalesOrderNumber  60398 non-null  object \n",
      " 3   ProductName       60398 non-null  object \n",
      " 4   OrderQuantity     60398 non-null  int64  \n",
      " 5   Price             60398 non-null  float64\n",
      " 6   OrderDate         60398 non-null  object \n",
      "dtypes: float64(1), int64(3), object(3)\n",
      "memory usage: 3.2+ MB\n"
     ]
    }
   ],
   "source": [
    "df.info()"
   ]
  },
  {
   "cell_type": "markdown",
   "id": "f556ab4f-63c0-4c29-81a9-93772f50e99d",
   "metadata": {},
   "source": [
    "***Let's visualise some statistics of the data.***\n",
    "\n",
    "We will visualise the days/months where the most and least transactions happened. "
   ]
  },
  {
   "cell_type": "code",
   "execution_count": 132,
   "id": "c7c56fb0-bfcc-4363-84ca-1c9a089a5c3f",
   "metadata": {},
   "outputs": [
    {
     "data": {
      "text/html": [
       "<div>\n",
       "<style scoped>\n",
       "    .dataframe tbody tr th:only-of-type {\n",
       "        vertical-align: middle;\n",
       "    }\n",
       "\n",
       "    .dataframe tbody tr th {\n",
       "        vertical-align: top;\n",
       "    }\n",
       "\n",
       "    .dataframe thead th {\n",
       "        text-align: right;\n",
       "    }\n",
       "</style>\n",
       "<table border=\"1\" class=\"dataframe\">\n",
       "  <thead>\n",
       "    <tr style=\"text-align: right;\">\n",
       "      <th></th>\n",
       "      <th>ProductKey</th>\n",
       "      <th>CustomerKey</th>\n",
       "      <th>SalesOrderNumber</th>\n",
       "      <th>ProductName</th>\n",
       "      <th>OrderQuantity</th>\n",
       "      <th>Price</th>\n",
       "      <th>OrderDate</th>\n",
       "      <th>Days</th>\n",
       "    </tr>\n",
       "  </thead>\n",
       "  <tbody>\n",
       "    <tr>\n",
       "      <th>0</th>\n",
       "      <td>310</td>\n",
       "      <td>21768</td>\n",
       "      <td>SO43697</td>\n",
       "      <td>Road-150 Red, 62</td>\n",
       "      <td>1</td>\n",
       "      <td>3578.2700</td>\n",
       "      <td>29/12/2010</td>\n",
       "      <td>Wednesday</td>\n",
       "    </tr>\n",
       "    <tr>\n",
       "      <th>1</th>\n",
       "      <td>346</td>\n",
       "      <td>28389</td>\n",
       "      <td>SO43698</td>\n",
       "      <td>Mountain-100 Silver, 44</td>\n",
       "      <td>1</td>\n",
       "      <td>3399.9900</td>\n",
       "      <td>29/12/2010</td>\n",
       "      <td>Wednesday</td>\n",
       "    </tr>\n",
       "    <tr>\n",
       "      <th>2</th>\n",
       "      <td>346</td>\n",
       "      <td>25863</td>\n",
       "      <td>SO43699</td>\n",
       "      <td>Mountain-100 Silver, 44</td>\n",
       "      <td>1</td>\n",
       "      <td>3399.9900</td>\n",
       "      <td>29/12/2010</td>\n",
       "      <td>Wednesday</td>\n",
       "    </tr>\n",
       "    <tr>\n",
       "      <th>3</th>\n",
       "      <td>336</td>\n",
       "      <td>14501</td>\n",
       "      <td>SO43700</td>\n",
       "      <td>Road-650 Black, 62</td>\n",
       "      <td>1</td>\n",
       "      <td>699.0982</td>\n",
       "      <td>29/12/2010</td>\n",
       "      <td>Wednesday</td>\n",
       "    </tr>\n",
       "    <tr>\n",
       "      <th>4</th>\n",
       "      <td>346</td>\n",
       "      <td>11003</td>\n",
       "      <td>SO43701</td>\n",
       "      <td>Mountain-100 Silver, 44</td>\n",
       "      <td>1</td>\n",
       "      <td>3399.9900</td>\n",
       "      <td>29/12/2010</td>\n",
       "      <td>Wednesday</td>\n",
       "    </tr>\n",
       "  </tbody>\n",
       "</table>\n",
       "</div>"
      ],
      "text/plain": [
       "   ProductKey  CustomerKey SalesOrderNumber              ProductName  \\\n",
       "0         310        21768          SO43697         Road-150 Red, 62   \n",
       "1         346        28389          SO43698  Mountain-100 Silver, 44   \n",
       "2         346        25863          SO43699  Mountain-100 Silver, 44   \n",
       "3         336        14501          SO43700       Road-650 Black, 62   \n",
       "4         346        11003          SO43701  Mountain-100 Silver, 44   \n",
       "\n",
       "   OrderQuantity      Price   OrderDate       Days  \n",
       "0              1  3578.2700  29/12/2010  Wednesday  \n",
       "1              1  3399.9900  29/12/2010  Wednesday  \n",
       "2              1  3399.9900  29/12/2010  Wednesday  \n",
       "3              1   699.0982  29/12/2010  Wednesday  \n",
       "4              1  3399.9900  29/12/2010  Wednesday  "
      ]
     },
     "execution_count": 132,
     "metadata": {},
     "output_type": "execute_result"
    }
   ],
   "source": [
    "df['Days'] = pd.to_datetime(df['OrderDate']).dt.day_name()\n",
    "df.head()"
   ]
  },
  {
   "cell_type": "code",
   "execution_count": 136,
   "id": "069f93e3-cc73-4d61-8016-96a7effbf603",
   "metadata": {},
   "outputs": [],
   "source": [
    "# Let's see the value counts of the daily sales in ascending order\n",
    "daily_sales = df['Days'].value_counts().sort_values(ascending=True)"
   ]
  },
  {
   "cell_type": "code",
   "execution_count": 138,
   "id": "280e0cdc-7562-4fbc-baa4-f061267c84fd",
   "metadata": {},
   "outputs": [
    {
     "data": {
      "image/png": "[encoded data removed]",
      "text/plain": [
       "<Figure size 1000x800 with 1 Axes>"
      ]
     },
     "metadata": {},
     "output_type": "display_data"
    }
   ],
   "source": [
    "plt.figure(figsize=(10,8))\n",
    "plt.bar(daily_sales.index, daily_sales.sort_values(ascending=False).values,label=\"Daily sales\")\n",
    "plt.title(\"Sales by day\")\n",
    "plt.xlabel(\"Days\")\n",
    "plt.ylabel(\"Number of items sold\")\n",
    "plt.show()"
   ]
  },
  {
   "cell_type": "markdown",
   "id": "897f0e12-9100-4358-b234-7695a0ec81b8",
   "metadata": {},
   "source": [
    "- The graph shows seven days sales in which Friday and weekend have the highest sales."
   ]
  },
  {
   "cell_type": "code",
   "execution_count": 141,
   "id": "fc892774-889d-4176-b6c5-3fdded7737bf",
   "metadata": {},
   "outputs": [
    {
     "data": {
      "text/html": [
       "<div>\n",
       "<style scoped>\n",
       "    .dataframe tbody tr th:only-of-type {\n",
       "        vertical-align: middle;\n",
       "    }\n",
       "\n",
       "    .dataframe tbody tr th {\n",
       "        vertical-align: top;\n",
       "    }\n",
       "\n",
       "    .dataframe thead th {\n",
       "        text-align: right;\n",
       "    }\n",
       "</style>\n",
       "<table border=\"1\" class=\"dataframe\">\n",
       "  <thead>\n",
       "    <tr style=\"text-align: right;\">\n",
       "      <th></th>\n",
       "      <th>ProductKey</th>\n",
       "      <th>CustomerKey</th>\n",
       "      <th>SalesOrderNumber</th>\n",
       "      <th>ProductName</th>\n",
       "      <th>OrderQuantity</th>\n",
       "      <th>Price</th>\n",
       "      <th>OrderDate</th>\n",
       "      <th>Days</th>\n",
       "      <th>Months</th>\n",
       "    </tr>\n",
       "  </thead>\n",
       "  <tbody>\n",
       "    <tr>\n",
       "      <th>0</th>\n",
       "      <td>310</td>\n",
       "      <td>21768</td>\n",
       "      <td>SO43697</td>\n",
       "      <td>Road-150 Red, 62</td>\n",
       "      <td>1</td>\n",
       "      <td>3578.2700</td>\n",
       "      <td>29/12/2010</td>\n",
       "      <td>Wednesday</td>\n",
       "      <td>December</td>\n",
       "    </tr>\n",
       "    <tr>\n",
       "      <th>1</th>\n",
       "      <td>346</td>\n",
       "      <td>28389</td>\n",
       "      <td>SO43698</td>\n",
       "      <td>Mountain-100 Silver, 44</td>\n",
       "      <td>1</td>\n",
       "      <td>3399.9900</td>\n",
       "      <td>29/12/2010</td>\n",
       "      <td>Wednesday</td>\n",
       "      <td>December</td>\n",
       "    </tr>\n",
       "    <tr>\n",
       "      <th>2</th>\n",
       "      <td>346</td>\n",
       "      <td>25863</td>\n",
       "      <td>SO43699</td>\n",
       "      <td>Mountain-100 Silver, 44</td>\n",
       "      <td>1</td>\n",
       "      <td>3399.9900</td>\n",
       "      <td>29/12/2010</td>\n",
       "      <td>Wednesday</td>\n",
       "      <td>December</td>\n",
       "    </tr>\n",
       "    <tr>\n",
       "      <th>3</th>\n",
       "      <td>336</td>\n",
       "      <td>14501</td>\n",
       "      <td>SO43700</td>\n",
       "      <td>Road-650 Black, 62</td>\n",
       "      <td>1</td>\n",
       "      <td>699.0982</td>\n",
       "      <td>29/12/2010</td>\n",
       "      <td>Wednesday</td>\n",
       "      <td>December</td>\n",
       "    </tr>\n",
       "    <tr>\n",
       "      <th>4</th>\n",
       "      <td>346</td>\n",
       "      <td>11003</td>\n",
       "      <td>SO43701</td>\n",
       "      <td>Mountain-100 Silver, 44</td>\n",
       "      <td>1</td>\n",
       "      <td>3399.9900</td>\n",
       "      <td>29/12/2010</td>\n",
       "      <td>Wednesday</td>\n",
       "      <td>December</td>\n",
       "    </tr>\n",
       "  </tbody>\n",
       "</table>\n",
       "</div>"
      ],
      "text/plain": [
       "   ProductKey  CustomerKey SalesOrderNumber              ProductName  \\\n",
       "0         310        21768          SO43697         Road-150 Red, 62   \n",
       "1         346        28389          SO43698  Mountain-100 Silver, 44   \n",
       "2         346        25863          SO43699  Mountain-100 Silver, 44   \n",
       "3         336        14501          SO43700       Road-650 Black, 62   \n",
       "4         346        11003          SO43701  Mountain-100 Silver, 44   \n",
       "\n",
       "   OrderQuantity      Price   OrderDate       Days    Months  \n",
       "0              1  3578.2700  29/12/2010  Wednesday  December  \n",
       "1              1  3399.9900  29/12/2010  Wednesday  December  \n",
       "2              1  3399.9900  29/12/2010  Wednesday  December  \n",
       "3              1   699.0982  29/12/2010  Wednesday  December  \n",
       "4              1  3399.9900  29/12/2010  Wednesday  December  "
      ]
     },
     "execution_count": 141,
     "metadata": {},
     "output_type": "execute_result"
    }
   ],
   "source": [
    "df['Months'] = pd.to_datetime(df['OrderDate']).dt.month_name()\n",
    "df.head()"
   ]
  },
  {
   "cell_type": "code",
   "execution_count": 143,
   "id": "51902fc1-aca3-47dc-856b-20c72c32f9bd",
   "metadata": {},
   "outputs": [
    {
     "data": {
      "image/png": "[encoded data removed]",
      "text/plain": [
       "<Figure size 1000x800 with 1 Axes>"
      ]
     },
     "metadata": {},
     "output_type": "display_data"
    }
   ],
   "source": [
    "monthly_sales = df['Months'].value_counts()\n",
    "\n",
    "plt.figure(figsize=(10,8))\n",
    "plt.bar(monthly_sales.index, monthly_sales.sort_values(ascending=False).values)\n",
    "plt.title('Monthly sales')\n",
    "plt.xlabel('Months')\n",
    "plt.ylabel('Total items sold')\n",
    "plt.xticks(rotation=75)\n",
    "plt.show()"
   ]
  },
  {
   "cell_type": "markdown",
   "id": "84d2d8d4-6e5f-4387-b6e4-342e51dc1783",
   "metadata": {},
   "source": [
    "- We can see the sales of the 12 months in which spring and summer sales are higher although, December and the October have the highest sales because they are the festive period. "
   ]
  },
  {
   "cell_type": "markdown",
   "id": "8a72e537-8e1e-46df-853e-4db8eed040c7",
   "metadata": {},
   "source": [
    "- Let's group the purchase quantities together by ProductKey and CustomerKey.\n",
    "- Let's change any sums that equals to zero to one (as this can happen if items were returned, hence, we want to indicate that a customer actually purchased the items instead of assuming no interaction between the customer and item ever took place).\n",
    "- Only include customers with positive purchase total to eliminate possible errors."
   ]
  },
  {
   "cell_type": "code",
   "execution_count": 167,
   "id": "70086e19-2103-496b-ac96-6cc5799c6c48",
   "metadata": {},
   "outputs": [],
   "source": [
    "df1 = df[['ProductKey','OrderQuantity','CustomerKey']]\n",
    "groupCP = df1.groupby(['CustomerKey','ProductKey']).sum().reset_index()\n",
    "groupCP.OrderQuantity.loc[groupCP.OrderQuantity == 0] = 1 # Replace the sum of zero with one indicating the purchase took place \n",
    "gcp = groupCP.query('OrderQuantity > 0') # Only get customers purchase were totals are positive."
   ]
  },
  {
   "cell_type": "code",
   "execution_count": 169,
   "id": "58c39646-b2b1-4f34-8e8f-642fd5b211c1",
   "metadata": {},
   "outputs": [
    {
     "name": "stdout",
     "output_type": "stream",
     "text": [
      "<class 'pandas.core.frame.DataFrame'>\n",
      "Int64Index: 59051 entries, 0 to 59050\n",
      "Data columns (total 3 columns):\n",
      " #   Column         Non-Null Count  Dtype\n",
      "---  ------         --------------  -----\n",
      " 0   CustomerKey    59051 non-null  int64\n",
      " 1   ProductKey     59051 non-null  int64\n",
      " 2   OrderQuantity  59051 non-null  int64\n",
      "dtypes: int64(3)\n",
      "memory usage: 1.8 MB\n"
     ]
    }
   ],
   "source": [
    "gcp.info()"
   ]
  },
  {
   "cell_type": "code",
   "execution_count": 171,
   "id": "1b562c8f-c126-45c1-9874-686274b9ab78",
   "metadata": {},
   "outputs": [
    {
     "name": "stdout",
     "output_type": "stream",
     "text": [
      "<class 'pandas.core.frame.DataFrame'>\n",
      "RangeIndex: 60398 entries, 0 to 60397\n",
      "Data columns (total 3 columns):\n",
      " #   Column         Non-Null Count  Dtype\n",
      "---  ------         --------------  -----\n",
      " 0   ProductKey     60398 non-null  int64\n",
      " 1   OrderQuantity  60398 non-null  int64\n",
      " 2   CustomerKey    60398 non-null  int64\n",
      "dtypes: int64(3)\n",
      "memory usage: 1.4 MB\n"
     ]
    }
   ],
   "source": [
    "df1.info()"
   ]
  },
  {
   "cell_type": "code",
   "execution_count": 173,
   "id": "a9b6a5a1-c7c7-4770-ac4d-142fc67893d6",
   "metadata": {},
   "outputs": [
    {
     "data": {
      "text/html": [
       "<div>\n",
       "<style scoped>\n",
       "    .dataframe tbody tr th:only-of-type {\n",
       "        vertical-align: middle;\n",
       "    }\n",
       "\n",
       "    .dataframe tbody tr th {\n",
       "        vertical-align: top;\n",
       "    }\n",
       "\n",
       "    .dataframe thead th {\n",
       "        text-align: right;\n",
       "    }\n",
       "</style>\n",
       "<table border=\"1\" class=\"dataframe\">\n",
       "  <thead>\n",
       "    <tr style=\"text-align: right;\">\n",
       "      <th></th>\n",
       "      <th>CustomerKey</th>\n",
       "      <th>ProductKey</th>\n",
       "      <th>OrderQuantity</th>\n",
       "    </tr>\n",
       "  </thead>\n",
       "  <tbody>\n",
       "    <tr>\n",
       "      <th>0</th>\n",
       "      <td>11000</td>\n",
       "      <td>214</td>\n",
       "      <td>1</td>\n",
       "    </tr>\n",
       "    <tr>\n",
       "      <th>1</th>\n",
       "      <td>11000</td>\n",
       "      <td>344</td>\n",
       "      <td>1</td>\n",
       "    </tr>\n",
       "    <tr>\n",
       "      <th>2</th>\n",
       "      <td>11000</td>\n",
       "      <td>353</td>\n",
       "      <td>1</td>\n",
       "    </tr>\n",
       "    <tr>\n",
       "      <th>3</th>\n",
       "      <td>11000</td>\n",
       "      <td>485</td>\n",
       "      <td>1</td>\n",
       "    </tr>\n",
       "    <tr>\n",
       "      <th>4</th>\n",
       "      <td>11000</td>\n",
       "      <td>488</td>\n",
       "      <td>1</td>\n",
       "    </tr>\n",
       "  </tbody>\n",
       "</table>\n",
       "</div>"
      ],
      "text/plain": [
       "   CustomerKey  ProductKey  OrderQuantity\n",
       "0        11000         214              1\n",
       "1        11000         344              1\n",
       "2        11000         353              1\n",
       "3        11000         485              1\n",
       "4        11000         488              1"
      ]
     },
     "execution_count": 173,
     "metadata": {},
     "output_type": "execute_result"
    }
   ],
   "source": [
    "gcp.head()"
   ]
  },
  {
   "cell_type": "markdown",
   "id": "cd433e4e-46a1-4627-95af-bce41b846dd9",
   "metadata": {},
   "source": [
    "<h3>Set up our sparse ratings matrix</h3>\n",
    "\n",
    "To save a lot of memory by keeping the matrix sparse and only saving the locations and values of products that are not zero."
   ]
  },
  {
   "cell_type": "code",
   "execution_count": 176,
   "id": "4bc68e7e-94c0-4466-aeca-1d80a65cbc2f",
   "metadata": {},
   "outputs": [
    {
     "data": {
      "text/plain": [
       "<18484x158 sparse matrix of type '<class 'numpy.int32'>'\n",
       "\twith 59051 stored elements in Compressed Sparse Row format>"
      ]
     },
     "execution_count": 176,
     "metadata": {},
     "output_type": "execute_result"
    }
   ],
   "source": [
    "# Creating a sparse ratings matrix of users and items.\n",
    "customers = list(np.sort(gcp.CustomerKey.unique())) # Get our unique customers\n",
    "products = list(np.sort(gcp.ProductKey.unique())) # Get our unique products\n",
    "quantity = list(gcp.OrderQuantity) # list of the order quantity\n",
    "\n",
    "rows = gcp.CustomerKey.astype('category').cat.codes # get the assocated row index\n",
    "cols = gcp.ProductKey.astype('category').cat.codes # get the associated column index\n",
    "\n",
    "purchases_sparse = sparse.csr_matrix((quantity, (rows, cols)), shape=(len(customers), len(products)))\n",
    "purchases_sparse # let's check our final matrix object"
   ]
  },
  {
   "cell_type": "markdown",
   "id": "383c3f1f-3a1f-43bc-87f1-63da3cb17cef",
   "metadata": {},
   "source": [
    "- This shows we have 18,484 customers, 158 products and sold(purchased) 59051."
   ]
  },
  {
   "cell_type": "code",
   "execution_count": 179,
   "id": "d04d3782-a41b-4d70-8a28-5f92a3235588",
   "metadata": {},
   "outputs": [
    {
     "data": {
      "text/plain": [
       "97.97803231806365"
      ]
     },
     "execution_count": 179,
     "metadata": {},
     "output_type": "execute_result"
    }
   ],
   "source": [
    "matrix_size = purchases_sparse.shape[0] * purchases_sparse.shape[1] #Number of interactions in the matrix\n",
    "num_purchases = len(purchases_sparse.nonzero()[0]) # Number of items interacted with\n",
    "sparsity = 100 * (1 - (num_purchases / matrix_size))\n",
    "sparsity"
   ]
  },
  {
   "cell_type": "markdown",
   "id": "e648ffb4-d7b3-4b07-b801-5f286bf9c3bf",
   "metadata": {},
   "source": [
    "- We can see that 98% of the interaction matrix is sparse. For collaborative filtering to work, the maximum sparsity you could get away with would probably be about 99.5% or so. We are below this, so we should be able to get decent results."
   ]
  },
  {
   "cell_type": "markdown",
   "id": "82b57a6e-c27e-4a0c-83dc-f98c891b2766",
   "metadata": {},
   "source": [
    "<h3>Creating a Training and Validation Set</h3>"
   ]
  },
  {
   "cell_type": "code",
   "execution_count": 184,
   "id": "89272a50-d410-40c9-86b0-12c36b06f322",
   "metadata": {},
   "outputs": [],
   "source": [
    "import random\n",
    "\n",
    "def make_train(ratings, pct_test = 0.2): \n",
    "    '''\n",
    "    This function will take in the original user-item matrix and \"mask\" a percentage of the original ratings\n",
    "    where a user-item interaction has been used as a test set. The test set will contain all the original\n",
    "    ratings, while the training set replaces the specified percentage with zero in the original ratings matrix.\n",
    "\n",
    "    Parameters:\n",
    "\n",
    "    ratings - is the original ratings matrix from which we want to generate a train/test set. \n",
    "    The test is just a complete copy of the original set, which is in the form of a sparse csr_matrix.\n",
    "\n",
    "    pct_test - The percentage of user-item interactions where an interaction took place that we want to mask\n",
    "    in the training set for later comparison to the test, which contains all  the original ratings.\n",
    "\n",
    "    return:\n",
    "\n",
    "    training_set - The altered version of the original data with a certain percentage of the user-item pair\n",
    "    that originally had interaction set back to zero.\n",
    "\n",
    "    test_set - A copy of the original ratings matrix, unaltered, so it can be used to see how the rank order compares\n",
    "    with the actual interactions.\n",
    "\n",
    "    user_inds - From the randomly selected user_item indices, which user rows were altered in the training data. \n",
    "    This will be necessary later when evaluating the performance via AUC.\n",
    "    \n",
    "    '''\n",
    "    test_set = ratings.copy() # Make a copy of the original set to be the test set.\n",
    "    test_set[test_set != 0] = 1 # store the test set as a binary performance matrix\n",
    "    training_set = ratings.copy() # Make a copy of the original dataset, which we can alter as our training set.\n",
    "    nonzero_inds = training_set.nonzero() # Find the indices in the ratings dataset where an interaction exists.\n",
    "    nonzero_pairs = list(zip(nonzero_inds[0], nonzero_inds[1])) # Zip these pairs together of user, items index into list\n",
    "    random.seed(20) # Set the random seed for reproducibility\n",
    "    num_samples = int(np.ceil(pct_test * len(nonzero_pairs))) # Round the number of samples needed to the nearest integer\n",
    "    samples = random.sample(nonzero_pairs, num_samples) # Sample a random number of user-item pairs without replacement.\n",
    "    user_inds = [index[0] for index in samples] # Get the user row indices\n",
    "    item_inds = [index[1] for index in samples] # Get the item column indices\n",
    "    training_set[user_inds, item_inds] = 0 # Assign all of the randomly chosen user-item pairs to zero\n",
    "    training_set.eliminate_zeros() # Get rid of zeros in sparse array storage after update to save space\n",
    "    return training_set, test_set, list(set(user_inds)) # output the unique list of user rows that were altered"
   ]
  },
  {
   "cell_type": "code",
   "execution_count": 186,
   "id": "05ce67b4-ffe2-4672-9d27-e506c07ed6c3",
   "metadata": {},
   "outputs": [],
   "source": [
    "product_train, product_test, product_users_altered = make_train(purchases_sparse, pct_test = 0.2)"
   ]
  },
  {
   "cell_type": "markdown",
   "id": "e762c6ab-c99d-42a4-800b-fa9b09711574",
   "metadata": {},
   "source": [
    "<h3>Implementing ALS for Implicit Feedback</h3>"
   ]
  },
  {
   "cell_type": "code",
   "execution_count": 189,
   "id": "4d8e5eff-3e5f-4fe0-9055-a1386a51acef",
   "metadata": {},
   "outputs": [],
   "source": [
    "def implicit_weighted_ALS(training_set, lambda_val = 0.1, alpha = 40, iterations = 10, rank_size = 20, seed = 0):\n",
    "    '''\n",
    "    Implicit weighted ALS taken from HU, Koren, and Volinsky 2008. Designed for alternating least squares and implicit\n",
    "    feedback based collaborative filtering.\n",
    "\n",
    "    parameters:\n",
    "\n",
    "    training_set - our matrix of ratings with shape m x n, where m is the number of users and n is the number of itens.\n",
    "    should be a sparse csr matrix to save space.\n",
    "\n",
    "    lambda_val - used for regularisation during alternating least squares. Increasing this value may increase bais but \n",
    "    decrease variance. default is 0.1.\n",
    "\n",
    "    alpha - The parameter is assocaited with the confidnece matrix discussed in the paper, where Cui = 1 + alpha * Rui.\n",
    "    The paper found a fault of 40 most effective. Decreasing this will decrease the variability in confidence between various\n",
    "    ratings.\n",
    "\n",
    "    iterations - The number of items to iterate between both the user feature vector and item feature vector in alternating\n",
    "    least squares. More iteration will allow better convergence at the cost of increased computation.\n",
    "    The author found 10 iterations was sufficient, but more may be required to converge.\n",
    "\n",
    "    rank_size - The number of latent feature in the user/item feature vector. The paper recommends varying this between\n",
    "    20-2000. increasing the number of features may overfit but could reduce bias.\n",
    "\n",
    "    seed - Set the seed for reproducible results.\n",
    "\n",
    "    returns:\n",
    "\n",
    "    The feature vectors for users and items. The dot product of these feature vectors should give you the expected \"rating\"\n",
    "    at each point in our original matrix.\n",
    "    '''\n",
    "    # First set of confidence matrix\n",
    "    conf = (alpha * training_set) # To allow matrix to stay sparse, I'll add one later when each row is taken and converted to dense\n",
    "\n",
    "    num_user = conf.shape[0]\n",
    "    num_item = conf.shape[1] # Get the size of our original ratings matrix, m x n\n",
    "\n",
    "    # Initailise our x/y feature vectors randomly with a set seed\n",
    "    rstate = np.random.RandomState(seed)\n",
    "\n",
    "    X = sparse.csr_matrix(rstate.normal(size = (num_user, rank_size))) # Random numbers in a m x rank shape\n",
    "    Y = sparse.csr_matrix(rstate.normal(size = (num_item, rank_size))) # Normally this would be rank x x n but we can\n",
    "    # transpose at the end. Makes calculation more simple\n",
    "\n",
    "    X_eye = sparse.eye(num_user)\n",
    "    Y_eye = sparse.eye(num_item)\n",
    "    lambda_eye = lambda_val * sparse.eye(rank_size) # Our regularisation term lambda*I\n",
    "\n",
    "    # We can compute this before iteration\n",
    "    # Begin iterations\n",
    "    for iter_step in range(iterations): # Iterate back and forth between solving X given fixed Y and vice versa\n",
    "        # Compute yTy and xTx at the beginning of each iteration to save computing time\n",
    "        yTy = Y.T.dot(Y)\n",
    "        xTx = X.T.dot(X)\n",
    "        # Being iteration to solve for X based on fixed Y\n",
    "        for u in range(num_user):\n",
    "            conf_samp = conf[u,:].toarray() # Grab user row from confidence matrix and convert to dense\n",
    "            pref = conf_samp.copy()\n",
    "            pref[pref != 0] = 1 # Create binarized preference vector\n",
    "            CuI = sparse.diags(conf_samp, [0]) # Get Cu - I term, don't need to subtract 1 since we never added it\n",
    "            yTCuIY = Y.T.dot(CuI).dot(Y) # This is the yT(Cu-I)Y term\n",
    "            yTCupu = Y.T.dot(CuI + Y_eye).dot(pref.T) # This is the yTCuPu term, where we add the eye back in Cu-I+I=Cu\n",
    "\n",
    "            X[u] = spsolve(yTy + yTCuIY + lambda_eye, yTCupu)\n",
    "            # Solve for Xu = ((yTy + yT(Cu-I)Y + lambda*I)^-1)yTCuPu, equation 4 from the paper\n",
    "        # Begin iteration to solve for Y based on fixed X\n",
    "        for i in range(num_item):\n",
    "            conf_samp = conf[:,i].T.toarray() # transpose to get it in row format and convert to dense.\n",
    "            pref = conf_samp.copy()\n",
    "            pref[pref != 0] = 1 # Create binarized preference vector\n",
    "            CiI = sparse.diags(conf_samp, [0]) # Get Ci-I term, don't need to subtract 1 since we never added it\n",
    "            xTCiIX = X.T.dot(CiI).dot(X) # This is the xT(Cu-I)X term\n",
    "            xTCiPi = X.T.dot(CiI + X_eye).dot(pref.T) # This is the xTCiPi term\n",
    "            Y[i] = spsolve(xTx + xTCiIX + lambda_eye, xTCiPi)\n",
    "            # Solve for Yi = ((xTx + xT(Cu-I)X) + lambda*I)^-1)xTCiPi, equation 5 from the paper\n",
    "        # End iterations\n",
    "        return X, Y.T\n",
    "# Transpose at the end to make up for not being transposed at the beginning.\n",
    "# Y needs to be rank x n. Keep these as separate matrices for scale reasons.\n"
   ]
  },
  {
   "cell_type": "code",
   "execution_count": 191,
   "id": "9d5078cb-b773-4fd3-920e-3006c11a3090",
   "metadata": {},
   "outputs": [],
   "source": [
    "user_vecs, item_vecs = implicit_weighted_ALS(product_train, lambda_val = 0.1, alpha = 15,\n",
    "                                             iterations = 1, rank_size = 20)                                    "
   ]
  },
  {
   "cell_type": "code",
   "execution_count": 193,
   "id": "d5aff17b-e09f-4558-b774-fb1f7df3b44f",
   "metadata": {},
   "outputs": [
    {
     "data": {
      "text/plain": [
       "array([ 0.02578946, -0.01339369, -0.01591212, -0.00499155, -0.00279749])"
      ]
     },
     "execution_count": 193,
     "metadata": {},
     "output_type": "execute_result"
    }
   ],
   "source": [
    "user_vecs[0,:].dot(item_vecs).toarray()[0,:5]"
   ]
  },
  {
   "cell_type": "markdown",
   "id": "f90d6aba-b84b-4368-98cf-9623d93f1efb",
   "metadata": {},
   "source": [
    "<h3>Speeding up ALS</h3>"
   ]
  },
  {
   "cell_type": "code",
   "execution_count": 196,
   "id": "ac8375de-830d-497a-a72f-339a67934c66",
   "metadata": {},
   "outputs": [],
   "source": [
    "import implicit"
   ]
  },
  {
   "cell_type": "code",
   "execution_count": 198,
   "id": "a8b8432c-7cea-4fbc-9634-f66fdcbfe956",
   "metadata": {},
   "outputs": [
    {
     "data": {
      "application/vnd.jupyter.widget-view+json": {
       "model_id": "d4c6717c26a8444581466ec893d4175d",
       "version_major": 2,
       "version_minor": 0
      },
      "text/plain": [
       "  0%|          | 0/20 [00:00<?, ?it/s]"
      ]
     },
     "metadata": {},
     "output_type": "display_data"
    }
   ],
   "source": [
    "from implicit.als import AlternatingLeastSquares\n",
    "alpha = 40\n",
    "item_user_data = (product_train * alpha).astype('double')\n",
    "model = AlternatingLeastSquares(factors = 20, regularization = 0.1, iterations = 20)\n",
    "\n",
    "model.fit(item_user_data)\n",
    "user_vecs = model.user_factors\n",
    "item_vecs = model.item_factors"
   ]
  },
  {
   "cell_type": "markdown",
   "id": "f9477040-fc80-403e-9092-414ee516710d",
   "metadata": {},
   "source": [
    "<h3>Evaluating the Recommender System</h3>"
   ]
  },
  {
   "cell_type": "markdown",
   "id": "3c463823-2774-41dc-8842-552b72dbe904",
   "metadata": {},
   "source": [
    "The training set has 20% of the purchases masked. This will allow us to evaluate the performance of our recommender system. Essentially, we need to see if the order of recommendations for each user matches the items they purchased. A commonly used metric for this problem is the area under the Receiver Operating Characteristic (or ROC) curve. A greater area under the curve means we are recommending items that end up being purchased near the top of the list of recommended items."
   ]
  },
  {
   "cell_type": "code",
   "execution_count": 202,
   "id": "e8814108-30f7-4763-8b14-66b356759e62",
   "metadata": {},
   "outputs": [],
   "source": [
    "from sklearn import metrics\n",
    "\n",
    "def auc_score(predictions, test):\n",
    "    '''\n",
    "    This simple function will output the area under the curve using Sklearn's metrics.\n",
    "\n",
    "    parameters:\n",
    "\n",
    "    - predictions: your prediction output.\n",
    "    \n",
    "    - test: the actual target result you are comparing to.\n",
    "\n",
    "    returns:\n",
    "\n",
    "    - AUC (area under the Receiver Operating Characteristic curve)\n",
    "    '''\n",
    "    fpr, tpr, thresholds = metrics.roc_curve(test, predictions)\n",
    "    return metrics.auc(fpr, tpr)"
   ]
  },
  {
   "cell_type": "code",
   "execution_count": 204,
   "id": "d4504316-176c-4996-abb7-0111ba98ff08",
   "metadata": {},
   "outputs": [],
   "source": [
    "def calc_mean_auc(training_set, altered_users, predictions, test_set):\n",
    "    ''' \n",
    "    Now, utilise this helper function inside a second function that will calculate the AUC for each user in our\n",
    "    training set with at least one item masked. It should also calculate the AUC for the most popular items to compare.\n",
    "    \n",
    "    '''\n",
    "    store_auc = [] # an empty list to store the AUC for each user that had an item removed from the training set.\n",
    "    popularity_auc = [] # To store popular AUC scores\n",
    "    pop_items = np.array(test_set.sum(axis = 0)).reshape(-1) # Get sum of item interactions to find most popular\n",
    "    item_vecs = predictions[1]\n",
    "    for user in altered_users: # Iterate through each user that had an item altered\n",
    "        training_row = training_set[user,:].toarray().reshape(-1) # Get the training set row\n",
    "        zero_inds = np.where(training_row == 0) # Find where the interaction had not yet occurred\n",
    "        # Get the predicted values based on our user/item vectors\n",
    "        user_vec = predictions[0][user,:]\n",
    "        pred = user_vec.dot(item_vecs).toarray()[0,zero_inds].reshape(-1)\n",
    "        # Get only the items that were originally zero.\n",
    "        # Select all ratings from the MF prediction for this user that originally had no iteration\n",
    "        actual = test_set[user,:].toarray()[0,zero_inds].reshape(-1)\n",
    "        # Select the binarised yes/no interaction pairs from the original full data\n",
    "        # That aligh with the same pairs in training.\n",
    "        pop = pop_items[zero_inds] # Get the item popularity for our chosen items.\n",
    "        store_auc.append(auc_score(pred, actual)) # Calculate AUC for the given user and store.\n",
    "        popularity_auc.append(auc_score(pop, actual)) # Calculate AUC using most popular and score\n",
    "    # End users iteration\n",
    "    return float('%.3f'%np.mean(store_auc)), float('%.3f'%np.mean(popularity_auc))"
   ]
  },
  {
   "cell_type": "markdown",
   "id": "5d4bcdf0-413b-4ec4-812a-3033cb09c163",
   "metadata": {},
   "source": [
    "Return the mean AUC rounded to three decimal places for both test and popularity benchmark.\n",
    "We can now use this function to see how our recommender system is doing. To use this function, we will need to transform\n",
    "our output from the ALS function to csr_matrix format and transpose the item vectors. The original pure Python version\n",
    "output the user and item vectors into the correct format already."
   ]
  },
  {
   "cell_type": "code",
   "execution_count": 207,
   "id": "59b4a201-916a-41ec-b487-db7defe6a5ad",
   "metadata": {},
   "outputs": [
    {
     "name": "stdout",
     "output_type": "stream",
     "text": [
      "0.757\n",
      "0.831\n"
     ]
    }
   ],
   "source": [
    "store_auc, popularity_auc = calc_mean_auc(product_train, product_users_altered,\n",
    "                                          [sparse.csr_matrix(user_vecs), sparse.csr_matrix(item_vecs.T)],\n",
    "                                          product_test)\n",
    "\n",
    "# AUC for our recommender system\n",
    "print(store_auc)\n",
    "print(popularity_auc)"
   ]
  },
  {
   "cell_type": "markdown",
   "id": "aceb8f9f-6bf1-4e0a-902f-e0d816697d32",
   "metadata": {},
   "source": [
    "Trying out the code"
   ]
  },
  {
   "cell_type": "code",
   "execution_count": 210,
   "id": "a01e04b8-7da3-49f3-8ff8-5e65e423144e",
   "metadata": {},
   "outputs": [],
   "source": [
    "customers_arr = np.array(customers) # Array of customer IDs from the ratings matrix\n",
    "products_arr = np.array(products) # Array of product IDs from the ratings matrix"
   ]
  },
  {
   "cell_type": "markdown",
   "id": "b435a752-9384-474b-b940-0dbab6d914b3",
   "metadata": {},
   "source": [
    "<h3>Function that returns a list of the productnames from our earlier created lookup table.</h3>"
   ]
  },
  {
   "cell_type": "markdown",
   "id": "83489075-3fb0-42b9-ac3c-3edfe0f4602f",
   "metadata": {},
   "source": [
    "Now, we can create a function that will return a list of the item descriptions from our earlier created item lookup table."
   ]
  },
  {
   "cell_type": "code",
   "execution_count": 216,
   "id": "662fd916-fa0b-445f-bfbb-43f922a43fd4",
   "metadata": {},
   "outputs": [],
   "source": [
    "def get_items_purchased(CustomerKey, mf_train, customer_list, product_list, lookUp):\n",
    "    '''\n",
    "    This function will return a list of the item description/names to our users.\n",
    "\n",
    "    parameters:\n",
    "\n",
    "    CustomerKey - the customerkey \n",
    "\n",
    "    mf_train - the training matrix you used for matrix factoorisation fitting\n",
    "\n",
    "    customer_list - an array of customer's ID numbers that make up the rows of your ratings matrix (in order of matrix)\n",
    "\n",
    "    product_list - an array of product's numbers that make up the rows of your ratings matrix (in order of matrix)\n",
    "\n",
    "    lookUp - a simple pandas dataframe of the unique product ID/product descriptions available\n",
    "    '''\n",
    "\n",
    "    cust_ind = np.where(customer_list == CustomerKey)[0][0] # Retunrs the index row of our customer id\n",
    "    purchased_ind = mf_train[cust_ind,:].nonzero()[1] # Get column indices of purchased items\n",
    "    prod_codes = product_list[purchased_ind] # Get the stock codes for our purchased items\n",
    "    return lookUp.loc[lookUp.ProductKey.isin(prod_codes)]"
   ]
  },
  {
   "cell_type": "code",
   "execution_count": 218,
   "id": "389cc125-5a62-4112-9e2e-9287ea795f9d",
   "metadata": {},
   "outputs": [
    {
     "data": {
      "text/plain": [
       "array([11000, 11001, 11002, 11003, 11004], dtype=int64)"
      ]
     },
     "execution_count": 218,
     "metadata": {},
     "output_type": "execute_result"
    }
   ],
   "source": [
    "# We need to look these up by a customer's ID. Looking at the list of customers:\n",
    "customers_arr[:5]"
   ]
  },
  {
   "cell_type": "code",
   "execution_count": 220,
   "id": "d176a702-07bc-4424-9549-4835c2b1468f",
   "metadata": {},
   "outputs": [
    {
     "data": {
      "text/html": [
       "<div>\n",
       "<style scoped>\n",
       "    .dataframe tbody tr th:only-of-type {\n",
       "        vertical-align: middle;\n",
       "    }\n",
       "\n",
       "    .dataframe tbody tr th {\n",
       "        vertical-align: top;\n",
       "    }\n",
       "\n",
       "    .dataframe thead th {\n",
       "        text-align: right;\n",
       "    }\n",
       "</style>\n",
       "<table border=\"1\" class=\"dataframe\">\n",
       "  <thead>\n",
       "    <tr style=\"text-align: right;\">\n",
       "      <th></th>\n",
       "      <th>ProductKey</th>\n",
       "      <th>ProductName</th>\n",
       "    </tr>\n",
       "  </thead>\n",
       "  <tbody>\n",
       "    <tr>\n",
       "      <th>8</th>\n",
       "      <td>344</td>\n",
       "      <td>Mountain-100 Silver, 38</td>\n",
       "    </tr>\n",
       "    <tr>\n",
       "      <th>5442</th>\n",
       "      <td>214</td>\n",
       "      <td>Sport-100 Helmet, Red</td>\n",
       "    </tr>\n",
       "    <tr>\n",
       "      <th>5459</th>\n",
       "      <td>573</td>\n",
       "      <td>Touring-1000 Blue, 46</td>\n",
       "    </tr>\n",
       "    <tr>\n",
       "      <th>5476</th>\n",
       "      <td>485</td>\n",
       "      <td>Fender Set - Mountain</td>\n",
       "    </tr>\n",
       "    <tr>\n",
       "      <th>5535</th>\n",
       "      <td>488</td>\n",
       "      <td>Short-Sleeve Classic Jersey, S</td>\n",
       "    </tr>\n",
       "  </tbody>\n",
       "</table>\n",
       "</div>"
      ],
      "text/plain": [
       "      ProductKey                     ProductName\n",
       "8            344         Mountain-100 Silver, 38\n",
       "5442         214           Sport-100 Helmet, Red\n",
       "5459         573           Touring-1000 Blue, 46\n",
       "5476         485           Fender Set - Mountain\n",
       "5535         488  Short-Sleeve Classic Jersey, S"
      ]
     },
     "execution_count": 220,
     "metadata": {},
     "output_type": "execute_result"
    }
   ],
   "source": [
    "get_items_purchased(11000, product_train,customers_arr, products_arr, lookUp)"
   ]
  },
  {
   "cell_type": "markdown",
   "id": "27768ae0-dbd6-4b44-a571-f0399ca27088",
   "metadata": {},
   "source": [
    "We can see that the customer purchased those products. What products does the recommender system say this customer should purchase?\n",
    "\n",
    "We need to create another function that does this. Let's also import the MinMaxScaler from scikit-learn to help with this."
   ]
  },
  {
   "cell_type": "markdown",
   "id": "0dbaae31-17c6-4503-bccc-8b04e082c278",
   "metadata": {},
   "source": [
    "<h3>Function that recommend products to customers.</h3>"
   ]
  },
  {
   "cell_type": "code",
   "execution_count": 224,
   "id": "a80082e7-d323-4a0c-92a4-5333625b5149",
   "metadata": {},
   "outputs": [],
   "source": [
    "from sklearn.preprocessing import MinMaxScaler"
   ]
  },
  {
   "cell_type": "code",
   "execution_count": 232,
   "id": "ea44a87c-d4cb-4687-a2d4-77ac3a149444",
   "metadata": {},
   "outputs": [],
   "source": [
    "def rec_items(customer_id, mf_train, user_vecs, item_vecs, customer_list, item_list, item_lookup, num_items = 10):\n",
    "    '''\n",
    "    This function will return the top recommended items to our users\n",
    "\n",
    "    parameters:\n",
    "\n",
    "    CustomerKey - input the customer's id number that you want to get recommendations for.\n",
    "\n",
    "    mf_train - the training matrix you used for matrix fractorization fitting\n",
    "\n",
    "    user_vecs - the user vectors from your fitting matrix factorisation\n",
    "\n",
    "    item_vecs - the item vectors from your fitting matrix factorisation\n",
    "\n",
    "    customer_list - an array of customer's ID numbers that make up the rows of your ratings matrix (in order of matrix)\n",
    "\n",
    "    lookUp - a simple pandas dataframe of the unique product ID/product descriptions available\n",
    "\n",
    "    num_items - The number of items you want to recommend in order of best recommendations. Default is 10\n",
    "\n",
    "    returns:\n",
    "\n",
    "    - The top n recommendations chosen based on the user/item vectors for items never interacted with/purchased\n",
    "    '''\n",
    "    \n",
    "    cust_ind = np.where(customer_list == customer_id)[0][0] # Returns the index row of our customer id\n",
    "    pref_vec = mf_train[cust_ind,:].toarray() # Get the ratings from the training set ratings matrix\n",
    "    pref_vec = pref_vec.reshape(-1) + 1 # Add 1 to everything so that items not purchased yet become equal to 1\n",
    "    pref_vec[pref_vec > 1] = 0 # Make everything already purchased zero\n",
    "    rec_vector = user_vecs[cust_ind,:].dot(item_vecs.T) # Get dot product of user vector and all item vectors\n",
    "\n",
    "    # Scale this recommendation vector between 0 and 1\n",
    "    min_max = MinMaxScaler()\n",
    "    rec_vector_scaled = min_max.fit_transform(rec_vector.reshape(-1,1))[:,0]\n",
    "    recommend_vector = pref_vec * rec_vector_scaled\n",
    "\n",
    "    # Items already purchased have their recommendation multiplied by zero\n",
    "    product_idx = np.argsort(recommend_vector)[::-1][:num_items] # Sort the indices of the items into order of best recommendations\n",
    "    rec_list = [] # Start empty list to store items\n",
    "    for index in product_idx:\n",
    "        code = item_list[index]\n",
    "        rec_list.append([code, lookUp.ProductName.loc[lookUp.ProductKey==code].iloc[0]])\n",
    "     # Append our descriptions to the list\n",
    "    codes = [item[0] for item in rec_list]\n",
    "    descriptions = [item[1] for item in rec_list]\n",
    "    final_frame = pd.DataFrame({'ProductKey':codes, 'ProductName':descriptions}) # Create a dataframe\n",
    "    return final_frame[['ProductKey','ProductName']] # Switch order of columns around"
   ]
  },
  {
   "cell_type": "code",
   "execution_count": 234,
   "id": "a650a9fc-3f80-4498-849c-4bf86ef191e6",
   "metadata": {},
   "outputs": [
    {
     "data": {
      "text/html": [
       "<div>\n",
       "<style scoped>\n",
       "    .dataframe tbody tr th:only-of-type {\n",
       "        vertical-align: middle;\n",
       "    }\n",
       "\n",
       "    .dataframe tbody tr th {\n",
       "        vertical-align: top;\n",
       "    }\n",
       "\n",
       "    .dataframe thead th {\n",
       "        text-align: right;\n",
       "    }\n",
       "</style>\n",
       "<table border=\"1\" class=\"dataframe\">\n",
       "  <thead>\n",
       "    <tr style=\"text-align: right;\">\n",
       "      <th></th>\n",
       "      <th>ProductKey</th>\n",
       "      <th>ProductName</th>\n",
       "    </tr>\n",
       "  </thead>\n",
       "  <tbody>\n",
       "    <tr>\n",
       "      <th>0</th>\n",
       "      <td>361</td>\n",
       "      <td>Mountain-200 Black, 42</td>\n",
       "    </tr>\n",
       "    <tr>\n",
       "      <th>1</th>\n",
       "      <td>359</td>\n",
       "      <td>Mountain-200 Black, 38</td>\n",
       "    </tr>\n",
       "    <tr>\n",
       "      <th>2</th>\n",
       "      <td>310</td>\n",
       "      <td>Road-150 Red, 62</td>\n",
       "    </tr>\n",
       "  </tbody>\n",
       "</table>\n",
       "</div>"
      ],
      "text/plain": [
       "   ProductKey             ProductName\n",
       "0         361  Mountain-200 Black, 42\n",
       "1         359  Mountain-200 Black, 38\n",
       "2         310        Road-150 Red, 62"
      ]
     },
     "execution_count": 234,
     "metadata": {},
     "output_type": "execute_result"
    }
   ],
   "source": [
    "rec_items(11000, product_train, user_vecs, item_vecs, customers_arr, products_arr, lookUp,\n",
    "          num_items = 3)"
   ]
  },
  {
   "cell_type": "code",
   "execution_count": 236,
   "id": "46060993-24d7-4b89-ab1d-787390328a09",
   "metadata": {},
   "outputs": [
    {
     "data": {
      "text/html": [
       "<div>\n",
       "<style scoped>\n",
       "    .dataframe tbody tr th:only-of-type {\n",
       "        vertical-align: middle;\n",
       "    }\n",
       "\n",
       "    .dataframe tbody tr th {\n",
       "        vertical-align: top;\n",
       "    }\n",
       "\n",
       "    .dataframe thead th {\n",
       "        text-align: right;\n",
       "    }\n",
       "</style>\n",
       "<table border=\"1\" class=\"dataframe\">\n",
       "  <thead>\n",
       "    <tr style=\"text-align: right;\">\n",
       "      <th></th>\n",
       "      <th>ProductKey</th>\n",
       "      <th>ProductName</th>\n",
       "    </tr>\n",
       "  </thead>\n",
       "  <tbody>\n",
       "    <tr>\n",
       "      <th>35</th>\n",
       "      <td>350</td>\n",
       "      <td>Mountain-100 Black, 44</td>\n",
       "    </tr>\n",
       "    <tr>\n",
       "      <th>5432</th>\n",
       "      <td>353</td>\n",
       "      <td>Mountain-200 Silver, 38</td>\n",
       "    </tr>\n",
       "    <tr>\n",
       "      <th>5433</th>\n",
       "      <td>478</td>\n",
       "      <td>Mountain Bottle Cage</td>\n",
       "    </tr>\n",
       "    <tr>\n",
       "      <th>5434</th>\n",
       "      <td>477</td>\n",
       "      <td>Water Bottle - 30 oz.</td>\n",
       "    </tr>\n",
       "    <tr>\n",
       "      <th>5483</th>\n",
       "      <td>604</td>\n",
       "      <td>Road-750 Black, 44</td>\n",
       "    </tr>\n",
       "    <tr>\n",
       "      <th>5491</th>\n",
       "      <td>225</td>\n",
       "      <td>AWC Logo Cap</td>\n",
       "    </tr>\n",
       "    <tr>\n",
       "      <th>5669</th>\n",
       "      <td>491</td>\n",
       "      <td>Short-Sleeve Classic Jersey, XL</td>\n",
       "    </tr>\n",
       "  </tbody>\n",
       "</table>\n",
       "</div>"
      ],
      "text/plain": [
       "      ProductKey                      ProductName\n",
       "35           350           Mountain-100 Black, 44\n",
       "5432         353          Mountain-200 Silver, 38\n",
       "5433         478             Mountain Bottle Cage\n",
       "5434         477            Water Bottle - 30 oz.\n",
       "5483         604               Road-750 Black, 44\n",
       "5491         225                     AWC Logo Cap\n",
       "5669         491  Short-Sleeve Classic Jersey, XL"
      ]
     },
     "execution_count": 236,
     "metadata": {},
     "output_type": "execute_result"
    }
   ],
   "source": [
    "get_items_purchased(11001, product_train, customers_arr, products_arr, lookUp)"
   ]
  },
  {
   "cell_type": "code",
   "execution_count": 258,
   "id": "da36d935-cd26-442f-9aaf-aa336a94a9e1",
   "metadata": {},
   "outputs": [
    {
     "data": {
      "text/html": [
       "<div>\n",
       "<style scoped>\n",
       "    .dataframe tbody tr th:only-of-type {\n",
       "        vertical-align: middle;\n",
       "    }\n",
       "\n",
       "    .dataframe tbody tr th {\n",
       "        vertical-align: top;\n",
       "    }\n",
       "\n",
       "    .dataframe thead th {\n",
       "        text-align: right;\n",
       "    }\n",
       "</style>\n",
       "<table border=\"1\" class=\"dataframe\">\n",
       "  <thead>\n",
       "    <tr style=\"text-align: right;\">\n",
       "      <th></th>\n",
       "      <th>ProductKey</th>\n",
       "      <th>ProductName</th>\n",
       "    </tr>\n",
       "  </thead>\n",
       "  <tbody>\n",
       "    <tr>\n",
       "      <th>0</th>\n",
       "      <td>473</td>\n",
       "      <td>Classic Vest, L</td>\n",
       "    </tr>\n",
       "    <tr>\n",
       "      <th>1</th>\n",
       "      <td>479</td>\n",
       "      <td>Road Bottle Cage</td>\n",
       "    </tr>\n",
       "    <tr>\n",
       "      <th>2</th>\n",
       "      <td>363</td>\n",
       "      <td>Mountain-200 Black, 46</td>\n",
       "    </tr>\n",
       "  </tbody>\n",
       "</table>\n",
       "</div>"
      ],
      "text/plain": [
       "   ProductKey             ProductName\n",
       "0         473         Classic Vest, L\n",
       "1         479        Road Bottle Cage\n",
       "2         363  Mountain-200 Black, 46"
      ]
     },
     "execution_count": 258,
     "metadata": {},
     "output_type": "execute_result"
    }
   ],
   "source": [
    "rec_items(11001, product_train, user_vecs, item_vecs, customers_arr, products_arr, lookUp,\n",
    "          num_items = 3)"
   ]
  },
  {
   "cell_type": "code",
   "execution_count": 261,
   "id": "7b01914d-d2b5-43b5-a3a6-bb913fc4f577",
   "metadata": {},
   "outputs": [
    {
     "data": {
      "text/html": [
       "<div>\n",
       "<style scoped>\n",
       "    .dataframe tbody tr th:only-of-type {\n",
       "        vertical-align: middle;\n",
       "    }\n",
       "\n",
       "    .dataframe tbody tr th {\n",
       "        vertical-align: top;\n",
       "    }\n",
       "\n",
       "    .dataframe thead th {\n",
       "        text-align: right;\n",
       "    }\n",
       "</style>\n",
       "<table border=\"1\" class=\"dataframe\">\n",
       "  <thead>\n",
       "    <tr style=\"text-align: right;\">\n",
       "      <th></th>\n",
       "      <th>ProductKey</th>\n",
       "      <th>ProductName</th>\n",
       "    </tr>\n",
       "  </thead>\n",
       "  <tbody>\n",
       "    <tr>\n",
       "      <th>5455</th>\n",
       "      <td>222</td>\n",
       "      <td>Sport-100 Helmet, Blue</td>\n",
       "    </tr>\n",
       "    <tr>\n",
       "      <th>5585</th>\n",
       "      <td>359</td>\n",
       "      <td>Mountain-200 Black, 38</td>\n",
       "    </tr>\n",
       "    <tr>\n",
       "      <th>5829</th>\n",
       "      <td>561</td>\n",
       "      <td>Touring-1000 Yellow, 46</td>\n",
       "    </tr>\n",
       "  </tbody>\n",
       "</table>\n",
       "</div>"
      ],
      "text/plain": [
       "      ProductKey              ProductName\n",
       "5455         222   Sport-100 Helmet, Blue\n",
       "5585         359   Mountain-200 Black, 38\n",
       "5829         561  Touring-1000 Yellow, 46"
      ]
     },
     "execution_count": 261,
     "metadata": {},
     "output_type": "execute_result"
    }
   ],
   "source": [
    "get_items_purchased(11002, product_train, customers_arr, products_arr, lookUp)"
   ]
  },
  {
   "cell_type": "code",
   "execution_count": 263,
   "id": "d5cc75bb-87f4-4f3c-b925-5bca7ed95d01",
   "metadata": {},
   "outputs": [
    {
     "data": {
      "text/html": [
       "<div>\n",
       "<style scoped>\n",
       "    .dataframe tbody tr th:only-of-type {\n",
       "        vertical-align: middle;\n",
       "    }\n",
       "\n",
       "    .dataframe tbody tr th {\n",
       "        vertical-align: top;\n",
       "    }\n",
       "\n",
       "    .dataframe thead th {\n",
       "        text-align: right;\n",
       "    }\n",
       "</style>\n",
       "<table border=\"1\" class=\"dataframe\">\n",
       "  <thead>\n",
       "    <tr style=\"text-align: right;\">\n",
       "      <th></th>\n",
       "      <th>ProductKey</th>\n",
       "      <th>ProductName</th>\n",
       "    </tr>\n",
       "  </thead>\n",
       "  <tbody>\n",
       "    <tr>\n",
       "      <th>0</th>\n",
       "      <td>355</td>\n",
       "      <td>Mountain-200 Silver, 42</td>\n",
       "    </tr>\n",
       "    <tr>\n",
       "      <th>1</th>\n",
       "      <td>485</td>\n",
       "      <td>Fender Set - Mountain</td>\n",
       "    </tr>\n",
       "    <tr>\n",
       "      <th>2</th>\n",
       "      <td>214</td>\n",
       "      <td>Sport-100 Helmet, Red</td>\n",
       "    </tr>\n",
       "  </tbody>\n",
       "</table>\n",
       "</div>"
      ],
      "text/plain": [
       "   ProductKey              ProductName\n",
       "0         355  Mountain-200 Silver, 42\n",
       "1         485    Fender Set - Mountain\n",
       "2         214    Sport-100 Helmet, Red"
      ]
     },
     "execution_count": 263,
     "metadata": {},
     "output_type": "execute_result"
    }
   ],
   "source": [
    "rec_items(11002, product_train, user_vecs, item_vecs, customers_arr, products_arr, lookUp,\n",
    "          num_items = 3)"
   ]
  },
  {
   "cell_type": "code",
   "execution_count": 265,
   "id": "524d31c6-d6c3-47db-ad23-841e7500a6c1",
   "metadata": {},
   "outputs": [
    {
     "data": {
      "text/html": [
       "<div>\n",
       "<style scoped>\n",
       "    .dataframe tbody tr th:only-of-type {\n",
       "        vertical-align: middle;\n",
       "    }\n",
       "\n",
       "    .dataframe tbody tr th {\n",
       "        vertical-align: top;\n",
       "    }\n",
       "\n",
       "    .dataframe thead th {\n",
       "        text-align: right;\n",
       "    }\n",
       "</style>\n",
       "<table border=\"1\" class=\"dataframe\">\n",
       "  <thead>\n",
       "    <tr style=\"text-align: right;\">\n",
       "      <th></th>\n",
       "      <th>ProductKey</th>\n",
       "      <th>ProductName</th>\n",
       "    </tr>\n",
       "  </thead>\n",
       "  <tbody>\n",
       "    <tr>\n",
       "      <th>5433</th>\n",
       "      <td>478</td>\n",
       "      <td>Mountain Bottle Cage</td>\n",
       "    </tr>\n",
       "    <tr>\n",
       "      <th>5434</th>\n",
       "      <td>477</td>\n",
       "      <td>Water Bottle - 30 oz.</td>\n",
       "    </tr>\n",
       "    <tr>\n",
       "      <th>5458</th>\n",
       "      <td>530</td>\n",
       "      <td>Touring Tire Tube</td>\n",
       "    </tr>\n",
       "    <tr>\n",
       "      <th>5491</th>\n",
       "      <td>225</td>\n",
       "      <td>AWC Logo Cap</td>\n",
       "    </tr>\n",
       "    <tr>\n",
       "      <th>5551</th>\n",
       "      <td>480</td>\n",
       "      <td>Patch Kit/8 Patches</td>\n",
       "    </tr>\n",
       "    <tr>\n",
       "      <th>5683</th>\n",
       "      <td>564</td>\n",
       "      <td>Touring-1000 Yellow, 60</td>\n",
       "    </tr>\n",
       "  </tbody>\n",
       "</table>\n",
       "</div>"
      ],
      "text/plain": [
       "      ProductKey              ProductName\n",
       "5433         478     Mountain Bottle Cage\n",
       "5434         477    Water Bottle - 30 oz.\n",
       "5458         530        Touring Tire Tube\n",
       "5491         225             AWC Logo Cap\n",
       "5551         480      Patch Kit/8 Patches\n",
       "5683         564  Touring-1000 Yellow, 60"
      ]
     },
     "execution_count": 265,
     "metadata": {},
     "output_type": "execute_result"
    }
   ],
   "source": [
    "get_items_purchased(11003, product_train, customers_arr, products_arr, lookUp)"
   ]
  },
  {
   "cell_type": "code",
   "execution_count": 267,
   "id": "067b6074-f69f-46cf-a8fc-731e564e2ab3",
   "metadata": {},
   "outputs": [
    {
     "data": {
      "text/html": [
       "<div>\n",
       "<style scoped>\n",
       "    .dataframe tbody tr th:only-of-type {\n",
       "        vertical-align: middle;\n",
       "    }\n",
       "\n",
       "    .dataframe tbody tr th {\n",
       "        vertical-align: top;\n",
       "    }\n",
       "\n",
       "    .dataframe thead th {\n",
       "        text-align: right;\n",
       "    }\n",
       "</style>\n",
       "<table border=\"1\" class=\"dataframe\">\n",
       "  <thead>\n",
       "    <tr style=\"text-align: right;\">\n",
       "      <th></th>\n",
       "      <th>ProductKey</th>\n",
       "      <th>ProductName</th>\n",
       "    </tr>\n",
       "  </thead>\n",
       "  <tbody>\n",
       "    <tr>\n",
       "      <th>0</th>\n",
       "      <td>541</td>\n",
       "      <td>Touring Tire</td>\n",
       "    </tr>\n",
       "    <tr>\n",
       "      <th>1</th>\n",
       "      <td>483</td>\n",
       "      <td>Hitch Rack - 4-Bike</td>\n",
       "    </tr>\n",
       "    <tr>\n",
       "      <th>2</th>\n",
       "      <td>561</td>\n",
       "      <td>Touring-1000 Yellow, 46</td>\n",
       "    </tr>\n",
       "  </tbody>\n",
       "</table>\n",
       "</div>"
      ],
      "text/plain": [
       "   ProductKey              ProductName\n",
       "0         541             Touring Tire\n",
       "1         483      Hitch Rack - 4-Bike\n",
       "2         561  Touring-1000 Yellow, 46"
      ]
     },
     "execution_count": 267,
     "metadata": {},
     "output_type": "execute_result"
    }
   ],
   "source": [
    "rec_items(11003, product_train, user_vecs, item_vecs, customers_arr, products_arr, lookUp,\n",
    "          num_items = 3)"
   ]
  },
  {
   "cell_type": "code",
   "execution_count": 269,
   "id": "9fb5daea-40d3-40ec-9f1b-cc1aafc3c790",
   "metadata": {},
   "outputs": [
    {
     "data": {
      "text/html": [
       "<div>\n",
       "<style scoped>\n",
       "    .dataframe tbody tr th:only-of-type {\n",
       "        vertical-align: middle;\n",
       "    }\n",
       "\n",
       "    .dataframe tbody tr th {\n",
       "        vertical-align: top;\n",
       "    }\n",
       "\n",
       "    .dataframe thead th {\n",
       "        text-align: right;\n",
       "    }\n",
       "</style>\n",
       "<table border=\"1\" class=\"dataframe\">\n",
       "  <thead>\n",
       "    <tr style=\"text-align: right;\">\n",
       "      <th></th>\n",
       "      <th>ProductKey</th>\n",
       "      <th>ProductName</th>\n",
       "    </tr>\n",
       "  </thead>\n",
       "  <tbody>\n",
       "    <tr>\n",
       "      <th>5431</th>\n",
       "      <td>217</td>\n",
       "      <td>Sport-100 Helmet, Black</td>\n",
       "    </tr>\n",
       "    <tr>\n",
       "      <th>5442</th>\n",
       "      <td>214</td>\n",
       "      <td>Sport-100 Helmet, Red</td>\n",
       "    </tr>\n",
       "    <tr>\n",
       "      <th>5509</th>\n",
       "      <td>355</td>\n",
       "      <td>Mountain-200 Silver, 42</td>\n",
       "    </tr>\n",
       "    <tr>\n",
       "      <th>5594</th>\n",
       "      <td>562</td>\n",
       "      <td>Touring-1000 Yellow, 50</td>\n",
       "    </tr>\n",
       "  </tbody>\n",
       "</table>\n",
       "</div>"
      ],
      "text/plain": [
       "      ProductKey              ProductName\n",
       "5431         217  Sport-100 Helmet, Black\n",
       "5442         214    Sport-100 Helmet, Red\n",
       "5509         355  Mountain-200 Silver, 42\n",
       "5594         562  Touring-1000 Yellow, 50"
      ]
     },
     "execution_count": 269,
     "metadata": {},
     "output_type": "execute_result"
    }
   ],
   "source": [
    "get_items_purchased(11004, product_train, customers_arr, products_arr, lookUp)"
   ]
  },
  {
   "cell_type": "code",
   "execution_count": 271,
   "id": "bdb40330-362d-4ad5-96a6-f97cec23dc39",
   "metadata": {},
   "outputs": [
    {
     "data": {
      "text/html": [
       "<div>\n",
       "<style scoped>\n",
       "    .dataframe tbody tr th:only-of-type {\n",
       "        vertical-align: middle;\n",
       "    }\n",
       "\n",
       "    .dataframe tbody tr th {\n",
       "        vertical-align: top;\n",
       "    }\n",
       "\n",
       "    .dataframe thead th {\n",
       "        text-align: right;\n",
       "    }\n",
       "</style>\n",
       "<table border=\"1\" class=\"dataframe\">\n",
       "  <thead>\n",
       "    <tr style=\"text-align: right;\">\n",
       "      <th></th>\n",
       "      <th>ProductKey</th>\n",
       "      <th>ProductName</th>\n",
       "    </tr>\n",
       "  </thead>\n",
       "  <tbody>\n",
       "    <tr>\n",
       "      <th>0</th>\n",
       "      <td>359</td>\n",
       "      <td>Mountain-200 Black, 38</td>\n",
       "    </tr>\n",
       "    <tr>\n",
       "      <th>1</th>\n",
       "      <td>482</td>\n",
       "      <td>Racing Socks, L</td>\n",
       "    </tr>\n",
       "    <tr>\n",
       "      <th>2</th>\n",
       "      <td>573</td>\n",
       "      <td>Touring-1000 Blue, 46</td>\n",
       "    </tr>\n",
       "  </tbody>\n",
       "</table>\n",
       "</div>"
      ],
      "text/plain": [
       "   ProductKey             ProductName\n",
       "0         359  Mountain-200 Black, 38\n",
       "1         482         Racing Socks, L\n",
       "2         573   Touring-1000 Blue, 46"
      ]
     },
     "execution_count": 271,
     "metadata": {},
     "output_type": "execute_result"
    }
   ],
   "source": [
    "rec_items(11004, product_train, user_vecs, item_vecs, customers_arr, products_arr, lookUp,\n",
    "          num_items = 3)"
   ]
  },
  {
   "cell_type": "code",
   "execution_count": null,
   "id": "56184354-4e9f-4e03-aee4-0aa98f115165",
   "metadata": {},
   "outputs": [],
   "source": []
  }
 ],
 "metadata": {
  "kernelspec": {
   "display_name": "Python 3 (ipykernel)",
   "language": "python",
   "name": "python3"
  },
  "language_info": {
   "codemirror_mode": {
    "name": "ipython",
    "version": 3
   },
   "file_extension": ".py",
   "mimetype": "text/x-python",
   "name": "python",
   "nbconvert_exporter": "python",
   "pygments_lexer": "ipython3",
   "version": "3.9.19"
  }
 },
 "nbformat": 4,
 "nbformat_minor": 5
}
