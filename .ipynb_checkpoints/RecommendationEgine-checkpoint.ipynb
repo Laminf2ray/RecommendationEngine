{
 "cells": [
  {
   "cell_type": "markdown",
   "id": "c1f5dce6-bf6b-4781-803d-d5855aa43a6e",
   "metadata": {},
   "source": [
    "<h1> Recommendation Engine</h1>\n",
    "\n",
    "As a plan for the company to increase it market share globaly, with a Recommendation engine that recommend products to customers can be a key for the company to archieve its objective.\n",
    "\n",
    "In this notebook, I explore; - Python programming, - Data analysis using Pandas, - apply data transformation for rule mining, and perform market basket analsysis.\n",
    "\n",
    "<h2>Task and dataset</h2>\n",
    "\n",
    "In this notebook, I deployed the Market Basket Analysis (MBA) using Apriori algorithm to generate association rules for the MBA dataset.\n",
    "\n",
    "Dataset:- I will be working with the 'Online_retail.zip'. The dataset contains the items bought in the company stores with each transaction ID. It includes the timestamp of the transaction."
   ]
  },
  {
   "cell_type": "code",
   "execution_count": 7,
   "id": "d4e983b9-f3f5-412b-85d8-c79136395f8f",
   "metadata": {},
   "outputs": [],
   "source": [
    "# import libraries\n",
    "import pandas as pd\n",
    "import numpy as np\n",
    "import matplotlib.pyplot as plt; plt.rcdefaults()\n",
    "import matplotlib.pyplot as plt\n",
    "import warnings\n",
    "warnings.filterwarnings('ignore')"
   ]
  },
  {
   "cell_type": "code",
   "execution_count": 13,
   "id": "d53ce609-6522-4e15-9f1c-28ac215286ef",
   "metadata": {},
   "outputs": [],
   "source": [
    "#load the dataset using pandas package\n",
    "#df = pd.read_csv('Online_retail.zip', sep='\\t', dtype=np.str_)\n",
    "df = pd.read_csv('Online_retail.zip')"
   ]
  },
  {
   "cell_type": "code",
   "execution_count": 15,
   "id": "d44df42e-0400-4407-a01a-be14c7fe075a",
   "metadata": {},
   "outputs": [
    {
     "data": {
      "text/html": [
       "<div>\n",
       "<style scoped>\n",
       "    .dataframe tbody tr th:only-of-type {\n",
       "        vertical-align: middle;\n",
       "    }\n",
       "\n",
       "    .dataframe tbody tr th {\n",
       "        vertical-align: top;\n",
       "    }\n",
       "\n",
       "    .dataframe thead th {\n",
       "        text-align: right;\n",
       "    }\n",
       "</style>\n",
       "<table border=\"1\" class=\"dataframe\">\n",
       "  <thead>\n",
       "    <tr style=\"text-align: right;\">\n",
       "      <th></th>\n",
       "      <th>ProductKey</th>\n",
       "      <th>CustomerKey</th>\n",
       "      <th>SalesOrderNumber</th>\n",
       "      <th>ProductName</th>\n",
       "      <th>OrderQuantity</th>\n",
       "      <th>Price</th>\n",
       "      <th>OrderDate</th>\n",
       "      <th>Unnamed: 7</th>\n",
       "    </tr>\n",
       "  </thead>\n",
       "  <tbody>\n",
       "    <tr>\n",
       "      <th>0</th>\n",
       "      <td>310</td>\n",
       "      <td>21768</td>\n",
       "      <td>SO43697</td>\n",
       "      <td>Road-150 Red, 62</td>\n",
       "      <td>1</td>\n",
       "      <td>3578.2700</td>\n",
       "      <td>29/12/2010</td>\n",
       "      <td>NaN</td>\n",
       "    </tr>\n",
       "    <tr>\n",
       "      <th>1</th>\n",
       "      <td>346</td>\n",
       "      <td>28389</td>\n",
       "      <td>SO43698</td>\n",
       "      <td>Mountain-100 Silver, 44</td>\n",
       "      <td>1</td>\n",
       "      <td>3399.9900</td>\n",
       "      <td>29/12/2010</td>\n",
       "      <td>NaN</td>\n",
       "    </tr>\n",
       "    <tr>\n",
       "      <th>2</th>\n",
       "      <td>346</td>\n",
       "      <td>25863</td>\n",
       "      <td>SO43699</td>\n",
       "      <td>Mountain-100 Silver, 44</td>\n",
       "      <td>1</td>\n",
       "      <td>3399.9900</td>\n",
       "      <td>29/12/2010</td>\n",
       "      <td>NaN</td>\n",
       "    </tr>\n",
       "    <tr>\n",
       "      <th>3</th>\n",
       "      <td>336</td>\n",
       "      <td>14501</td>\n",
       "      <td>SO43700</td>\n",
       "      <td>Road-650 Black, 62</td>\n",
       "      <td>1</td>\n",
       "      <td>699.0982</td>\n",
       "      <td>29/12/2010</td>\n",
       "      <td>NaN</td>\n",
       "    </tr>\n",
       "    <tr>\n",
       "      <th>4</th>\n",
       "      <td>346</td>\n",
       "      <td>11003</td>\n",
       "      <td>SO43701</td>\n",
       "      <td>Mountain-100 Silver, 44</td>\n",
       "      <td>1</td>\n",
       "      <td>3399.9900</td>\n",
       "      <td>29/12/2010</td>\n",
       "      <td>NaN</td>\n",
       "    </tr>\n",
       "  </tbody>\n",
       "</table>\n",
       "</div>"
      ],
      "text/plain": [
       "   ProductKey  CustomerKey SalesOrderNumber              ProductName  \\\n",
       "0         310        21768          SO43697         Road-150 Red, 62   \n",
       "1         346        28389          SO43698  Mountain-100 Silver, 44   \n",
       "2         346        25863          SO43699  Mountain-100 Silver, 44   \n",
       "3         336        14501          SO43700       Road-650 Black, 62   \n",
       "4         346        11003          SO43701  Mountain-100 Silver, 44   \n",
       "\n",
       "   OrderQuantity      Price   OrderDate  Unnamed: 7  \n",
       "0              1  3578.2700  29/12/2010         NaN  \n",
       "1              1  3399.9900  29/12/2010         NaN  \n",
       "2              1  3399.9900  29/12/2010         NaN  \n",
       "3              1   699.0982  29/12/2010         NaN  \n",
       "4              1  3399.9900  29/12/2010         NaN  "
      ]
     },
     "execution_count": 15,
     "metadata": {},
     "output_type": "execute_result"
    }
   ],
   "source": [
    "# Prints the first five rows of the dataset\n",
    "df.head()"
   ]
  },
  {
   "cell_type": "code",
   "execution_count": 17,
   "id": "087ec3b5-cdb6-471d-a613-632ea5ff13ad",
   "metadata": {},
   "outputs": [
    {
     "data": {
      "text/plain": [
       "(60398, 8)"
      ]
     },
     "execution_count": 17,
     "metadata": {},
     "output_type": "execute_result"
    }
   ],
   "source": [
    "# Let's check the dimention of the dataset\n",
    "df.shape"
   ]
  },
  {
   "cell_type": "markdown",
   "id": "6d15698c-5a27-4cfc-b224-01cd1713f0bb",
   "metadata": {},
   "source": [
    "<h3>Basic Data Analysis</h3>\n",
    "\n",
    "Let's get familiar with the dataset. To gain some impressions, will try getting some counts for different columns."
   ]
  },
  {
   "cell_type": "code",
   "execution_count": 22,
   "id": "4089a305-36b3-49cc-9aeb-94038affe302",
   "metadata": {},
   "outputs": [
    {
     "name": "stdout",
     "output_type": "stream",
     "text": [
      "The number of unique dates is:  1124\n"
     ]
    }
   ],
   "source": [
    "num_uniq_dates =df['OrderDate'].nunique()\n",
    "print(\"The number of unique dates is: \", num_uniq_dates)"
   ]
  },
  {
   "cell_type": "code",
   "execution_count": null,
   "id": "0e4f8a94-a246-4e45-84cc-ddb01eaff02f",
   "metadata": {},
   "outputs": [],
   "source": []
  }
 ],
 "metadata": {
  "kernelspec": {
   "display_name": "Python 3 (ipykernel)",
   "language": "python",
   "name": "python3"
  },
  "language_info": {
   "codemirror_mode": {
    "name": "ipython",
    "version": 3
   },
   "file_extension": ".py",
   "mimetype": "text/x-python",
   "name": "python",
   "nbconvert_exporter": "python",
   "pygments_lexer": "ipython3",
   "version": "3.9.19"
  }
 },
 "nbformat": 4,
 "nbformat_minor": 5
}
